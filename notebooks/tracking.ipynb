{
 "cells": [
  {
   "cell_type": "code",
   "execution_count": 4,
   "metadata": {},
   "outputs": [],
   "source": [
    "from tifffile import TiffFile, imread\n",
    "from pathlib import Path\n",
    "import matplotlib.pyplot as plt\n",
    "import ipywidgets as widgets\n",
    "from IPython.display import display\n",
    "import numpy as np\n",
    "import trackpy as tp\n",
    "%matplotlib widget"
   ]
  },
  {
   "cell_type": "code",
   "execution_count": 5,
   "metadata": {},
   "outputs": [],
   "source": [
    "def tiff_page_generator(filename):\n",
    "    \"\"\"Yield each page of a TIFF file as a numpy array.\"\"\"\n",
    "    with TiffFile(filename) as tif:\n",
    "        for page in tif.pages:\n",
    "            yield page.asarray()"
   ]
  },
  {
   "cell_type": "code",
   "execution_count": 6,
   "metadata": {},
   "outputs": [],
   "source": [
    "data_folder = Path(\"~/workspace/data/four-cell\").expanduser()\n",
    "pattern_file = data_folder / \"20240906_patterns_Master Cy5 Cam binx2.tif\"\n",
    "nuclei_file = data_folder / \"20240906_MCF10A_timelapse_Master DAPI Cam bin2x2.tif\"\n",
    "cyto_file = data_folder / \"20240906_MCF10A_timelapse_Master DIA Cam bin2x2.tif\""
   ]
  },
  {
   "cell_type": "code",
   "execution_count": 7,
   "metadata": {},
   "outputs": [],
   "source": [
    "pattern = imread(pattern_file)\n",
    "nuclei = tiff_page_generator(nuclei_file)\n",
    "cyto = tiff_page_generator(cyto_file)"
   ]
  },
  {
   "cell_type": "code",
   "execution_count": 8,
   "metadata": {},
   "outputs": [],
   "source": [
    "bbox = [680, 740, 570, 630]"
   ]
  },
  {
   "cell_type": "code",
   "execution_count": 9,
   "metadata": {},
   "outputs": [],
   "source": [
    "def crop(img, bbox):\n",
    "    return img[bbox[0]:bbox[1], bbox[2]:bbox[3]]"
   ]
  },
  {
   "cell_type": "code",
   "execution_count": 10,
   "metadata": {},
   "outputs": [],
   "source": [
    "pattern_roi = crop(pattern, bbox)"
   ]
  },
  {
   "cell_type": "code",
   "execution_count": 11,
   "metadata": {},
   "outputs": [
    {
     "name": "stdout",
     "output_type": "stream",
     "text": [
      "(289, 60, 60)\n"
     ]
    }
   ],
   "source": [
    "nuclei_roi = []\n",
    "for nuclei_frame in nuclei:\n",
    "    nuclei_roi.append(crop(nuclei_frame, bbox))\n",
    "\n",
    "nuclei_roi = np.array(nuclei_roi)\n",
    "print(nuclei_roi.shape)"
   ]
  },
  {
   "cell_type": "code",
   "execution_count": 12,
   "metadata": {},
   "outputs": [
    {
     "name": "stdout",
     "output_type": "stream",
     "text": [
      "(289, 60, 60)\n"
     ]
    }
   ],
   "source": [
    "cyto_roi = []\n",
    "for cyto_frame in cyto:\n",
    "    cyto_roi.append(cyto_frame[bbox[0]:bbox[1], bbox[2]:bbox[3]])\n",
    "\n",
    "cyto_roi = np.array(cyto_roi)\n",
    "print(cyto_roi.shape)"
   ]
  },
  {
   "cell_type": "code",
   "execution_count": 60,
   "metadata": {},
   "outputs": [],
   "source": [
    "class ImageStackViewer:\n",
    "    def __init__(self, img_stack, debug=False):\n",
    "        self.img_stack = img_stack\n",
    "        self.debug = debug\n",
    "        self.slider = widgets.IntSlider(\n",
    "            min=0, max=img_stack.shape[0]-1, description='Frame',\n",
    "            layout=widgets.Layout(min_width='20em', border='1px solid black')\n",
    "        )\n",
    "        self.debug_widget = widgets.Output(\n",
    "            layout=widgets.Layout(min_width='20em', min_height='15em', border='1px solid black')\n",
    "        )\n",
    "        self.debug_cnt = 0\n",
    "        plt.ioff()\n",
    "        self.fig, self.ax = plt.subplots()\n",
    "        self._plot_and_track(0)\n",
    "        self.ax.axis('off')\n",
    "        self.fig.tight_layout()\n",
    "        self.slider.observe(self._on_value_change, names='value')\n",
    "\n",
    "        self.fig_widget = widgets.Output(\n",
    "            layout=widgets.Layout(min_width='40em', min_height='40em', border='1px solid black')\n",
    "        )\n",
    "        with self.fig_widget:\n",
    "            display(self.fig.canvas)\n",
    "\n",
    "        self._show()\n",
    "\n",
    "    def _on_value_change(self, change):\n",
    "        frame_idx = change['new']\n",
    "        self._debug(f'Frame: {frame_idx}')\n",
    "        self._plot_and_track(frame_idx)\n",
    "        self.fig.canvas.draw_idle()\n",
    "\n",
    "    def _plot_and_track(self, frame_idx):\n",
    "        f = tp.locate(self.img_stack[frame_idx], diameter=11, topn=10)\n",
    "        self._debug(f)\n",
    "        self.ax.clear()\n",
    "        self.ax.imshow(self.img_stack[frame_idx], cmap='gray', vmin=self.img_stack[frame_idx].min(), vmax=self.img_stack[frame_idx].max())\n",
    "        self.ax.axis('off')\n",
    "        for cell in f.itertuples():\n",
    "            self.ax.plot(cell.x, cell.y, 'ro', markersize=10)\n",
    "\n",
    "    def _show(self):\n",
    "        if self.debug:\n",
    "            display(widgets.HBox([\n",
    "                widgets.VBox([\n",
    "                    self.slider,\n",
    "                    widgets.Box(layout=widgets.Layout(height='1em', border='1px solid transparent')),\n",
    "                    self.fig_widget\n",
    "                ], layout=widgets.Layout(align_items='center')),\n",
    "                self.debug_widget\n",
    "            ], layout=widgets.Layout(margin='1em')))\n",
    "        else:\n",
    "            display(widgets.HBox([\n",
    "                widgets.VBox([\n",
    "                    self.slider,\n",
    "                    widgets.Box(layout=widgets.Layout(height='1em', border='1px solid transparent')),\n",
    "                    self.fig_widget\n",
    "                ], layout=widgets.Layout(align_items='center'))\n",
    "        ], layout=widgets.Layout(margin='1em')))\n",
    "\n",
    "    def _debug(self, msg):\n",
    "        self.debug_widget.clear_output()\n",
    "        with self.debug_widget:\n",
    "            print(msg)"
   ]
  },
  {
   "cell_type": "code",
   "execution_count": 61,
   "metadata": {},
   "outputs": [
    {
     "data": {
      "application/vnd.jupyter.widget-view+json": {
       "model_id": "3847b42ebb8a456eabbd81f704744511",
       "version_major": 2,
       "version_minor": 0
      },
      "text/plain": [
       "HBox(children=(VBox(children=(IntSlider(value=0, description='Frame', layout=Layout(border_bottom='1px solid b…"
      ]
     },
     "metadata": {},
     "output_type": "display_data"
    }
   ],
   "source": [
    "viewer = ImageStackViewer(nuclei_roi, debug=True)"
   ]
  },
  {
   "cell_type": "code",
   "execution_count": null,
   "metadata": {},
   "outputs": [],
   "source": []
  }
 ],
 "metadata": {
  "kernelspec": {
   "display_name": "Python 3 (ipykernel)",
   "language": "python",
   "name": "python3"
  },
  "language_info": {
   "codemirror_mode": {
    "name": "ipython",
    "version": 3
   },
   "file_extension": ".py",
   "mimetype": "text/x-python",
   "name": "python",
   "nbconvert_exporter": "python",
   "pygments_lexer": "ipython3",
   "version": "3.12.9"
  }
 },
 "nbformat": 4,
 "nbformat_minor": 4
}
