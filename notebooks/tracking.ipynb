{
 "cells": [
  {
   "cell_type": "code",
   "execution_count": 19,
   "metadata": {},
   "outputs": [],
   "source": [
    "import numpy as np\n",
    "from pathlib import Path\n",
    "from imageio.v3 import imread, imwrite\n",
    "from skimage import img_as_ubyte\n",
    "import tifffile\n",
    "from cellpose import models, plot\n",
    "import matplotlib.pyplot as plt\n",
    "import cv2\n",
    "%matplotlib inline"
   ]
  },
  {
   "cell_type": "code",
   "execution_count": 20,
   "metadata": {},
   "outputs": [],
   "source": [
    "data_path = Path(\"/Users/jack/Documents/one-cell\")\n",
    "\n",
    "nuclei_path = data_path / \"nuclei.tif\"\n",
    "cyto_path = data_path / \"cyto.tif\"\n",
    "pattern_path = data_path / \"patterns.tif\"\n",
    "\n",
    "with tifffile.TiffFile(nuclei_path) as tif:\n",
    "    nuclei = tif.pages[0].asarray()\n",
    "with tifffile.TiffFile(cyto_path) as tif:\n",
    "    cyto = tif.pages[0].asarray()\n",
    "pattern = img_as_ubyte(imread(pattern_path))"
   ]
  },
  {
   "cell_type": "code",
   "execution_count": 21,
   "metadata": {},
   "outputs": [],
   "source": [
    "def area(bbox):\n",
    "    x1, y1, w, h = bbox\n",
    "    return w * h"
   ]
  },
  {
   "cell_type": "code",
   "execution_count": 22,
   "metadata": {},
   "outputs": [],
   "source": [
    "def adjust(bbox, height=0):\n",
    "    x1, y1, w, h = bbox\n",
    "    new_bbox = (x1, y1 + (h - height)//2, w, height)\n",
    "    return new_bbox"
   ]
  },
  {
   "cell_type": "code",
   "execution_count": 23,
   "metadata": {},
   "outputs": [],
   "source": [
    "def crop(image, bbox):\n",
    "    x1, y1, w, h = bbox\n",
    "    return image[y1:y1+h, x1:x1+w]"
   ]
  },
  {
   "cell_type": "code",
   "execution_count": 24,
   "metadata": {},
   "outputs": [],
   "source": [
    "pattern_blur = cv2.GaussianBlur(pattern, (5, 5), 0)\n",
    "_, pattern_binary = cv2.threshold(pattern_blur, 1, 255, cv2.THRESH_BINARY)\n",
    "pattern_binary = cv2.morphologyEx(pattern_binary, cv2.MORPH_ERODE, np.ones((5, 5), np.uint8))\n",
    "pattern_rgb = cv2.cvtColor(pattern_binary, cv2.COLOR_GRAY2RGB)\n",
    "contours, _ = cv2.findContours(pattern_binary, cv2.RETR_EXTERNAL, cv2.CHAIN_APPROX_SIMPLE)\n",
    "bbox = [cv2.boundingRect(c) for c in contours]\n",
    "bbox = [b for b in bbox if area(b) > 1000]\n",
    "bbox = [adjust(b, 30) for b in bbox]\n",
    "pattern_rgb = cv2.cvtColor(pattern_binary, cv2.COLOR_GRAY2RGB)\n",
    "# for b in bbox:\n",
    "#     x1, y1, w, h = b\n",
    "#     cv2.rectangle(pattern_rgb, (x1, y1), (x1 + w, y1 + h), (0, 255, 0), 2)\n",
    "# plt.imshow(pattern_rgb)\n",
    "# plt.show()"
   ]
  },
  {
   "cell_type": "code",
   "execution_count": 25,
   "metadata": {},
   "outputs": [],
   "source": [
    "def normalize(image):\n",
    "    image = img_as_ubyte(image)\n",
    "    image_bg = cv2.medianBlur(image, 51)\n",
    "    image_bg_blur = cv2.GaussianBlur(image_bg, (0, 0), sigmaX=101, sigmaY=101)\n",
    "    image_clean = cv2.subtract(image, image_bg_blur)\n",
    "    p1 = np.percentile(image_clean[image_clean > 0], 1)\n",
    "    p99 = np.percentile(image_clean[image_clean > 0], 99)\n",
    "    image = (image_clean - p1) / (p99 - p1)\n",
    "    image = image.clip(0, 1)\n",
    "    image = image * 255\n",
    "    return image.astype(np.uint8)"
   ]
  },
  {
   "cell_type": "code",
   "execution_count": 26,
   "metadata": {},
   "outputs": [],
   "source": [
    "def normalize_simple(image):\n",
    "    image = img_as_ubyte(image)\n",
    "    min = np.min(image)\n",
    "    max = np.max(image)\n",
    "    image = (image - min) / (max - min)\n",
    "    image = image * 255\n",
    "    return image.astype(np.uint8)"
   ]
  },
  {
   "cell_type": "code",
   "execution_count": 27,
   "metadata": {},
   "outputs": [
    {
     "data": {
      "image/png": "[encoded data removed]",
      "text/plain": [
       "<Figure size 640x480 with 1 Axes>"
      ]
     },
     "metadata": {},
     "output_type": "display_data"
    }
   ],
   "source": [
    "overlay_rgb = np.zeros((*pattern_rgb.shape[:2], 3), dtype=np.uint8)\n",
    "overlay_rgb[..., 0] = img_as_ubyte(nuclei)\n",
    "overlay_rgb[..., 1] = img_as_ubyte(cyto)\n",
    "crop_rgb = crop(overlay_rgb, bbox[0])\n",
    "imwrite(\"crop_rgb.png\", crop_rgb)\n",
    "plt.imshow(crop_rgb)\n",
    "plt.show()"
   ]
  },
  {
   "cell_type": "code",
   "execution_count": 28,
   "metadata": {},
   "outputs": [
    {
     "data": {
      "image/png": "[encoded data removed]",
      "text/plain": [
       "<Figure size 1000x1000 with 1 Axes>"
      ]
     },
     "metadata": {},
     "output_type": "display_data"
    }
   ],
   "source": [
    "model = models.Cellpose(gpu=True, model_type='cyto3')\n",
    "masks, flows, styles, diams = model.eval(crop_rgb, diameter=None, channels=[2, 1])\n",
    "fig = plt.figure(figsize=(10, 10))\n",
    "plt.imshow(masks)\n",
    "plt.show()\n"
   ]
  },
  {
   "cell_type": "code",
   "execution_count": 29,
   "metadata": {},
   "outputs": [
    {
     "data": {
      "image/png": "[encoded data removed]",
      "text/plain": [
       "<Figure size 640x480 with 1 Axes>"
      ]
     },
     "metadata": {},
     "output_type": "display_data"
    }
   ],
   "source": [
    "model = models.Cellpose(gpu=True, model_type='cyto3')\n",
    "masks, flows, styles, diams = model.eval(crop(img_as_ubyte(nuclei)*255, bbox[0]), channels=[0, 0])\n",
    "plt.imshow(masks)\n",
    "plt.show()"
   ]
  },
  {
   "cell_type": "code",
   "execution_count": null,
   "metadata": {},
   "outputs": [],
   "source": []
  }
 ],
 "metadata": {
  "kernelspec": {
   "display_name": "base",
   "language": "python",
   "name": "python3"
  },
  "language_info": {
   "codemirror_mode": {
    "name": "ipython",
    "version": 3
   },
   "file_extension": ".py",
   "mimetype": "text/x-python",
   "name": "python",
   "nbconvert_exporter": "python",
   "pygments_lexer": "ipython3",
   "version": "3.12.9"
  },
  "orig_nbformat": 4
 },
 "nbformat": 4,
 "nbformat_minor": 2
}
