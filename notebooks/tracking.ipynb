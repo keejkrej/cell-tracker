{
 "cells": [
  {
   "cell_type": "code",
   "execution_count": 279,
   "metadata": {},
   "outputs": [],
   "source": [
    "import os\n",
    "import numpy as np\n",
    "import pandas as pd\n",
    "import glob\n",
    "from pathlib import Path\n",
    "from skimage.io import ImageCollection, imread\n",
    "from skimage import img_as_ubyte\n",
    "from tqdm import tqdm\n",
    "import trackpy as tp\n",
    "import matplotlib.pyplot as plt\n",
    "from pathlib import Path\n",
    "import cv2\n",
    "%matplotlib qt"
   ]
  },
  {
   "cell_type": "code",
   "execution_count": 280,
   "metadata": {},
   "outputs": [],
   "source": [
    "data_path = Path(\"/Users/jack/Documents/one-cell\")\n",
    "\n",
    "nuclei_path = data_path / \"nuclei.tif\"\n",
    "cyto_path = data_path / \"cyto.tif\"\n",
    "pattern_path = data_path / \"patterns.tif\"\n",
    "\n",
    "nuclei = ImageCollection(str(nuclei_path))\n",
    "cyto = ImageCollection(str(cyto_path))\n",
    "pattern = img_as_ubyte(imread(str(pattern_path)))"
   ]
  },
  {
   "cell_type": "code",
   "execution_count": 281,
   "metadata": {},
   "outputs": [],
   "source": [
    "def area(bbox):\n",
    "    x1, y1, w, h = bbox\n",
    "    return w * h"
   ]
  },
  {
   "cell_type": "code",
   "execution_count": 282,
   "metadata": {},
   "outputs": [],
   "source": [
    "def adjust(bbox, height=0):\n",
    "    x1, y1, w, h = bbox\n",
    "    new_bbox = (x1, y1 + (h - height)//2, w, height)\n",
    "    return new_bbox"
   ]
  },
  {
   "cell_type": "code",
   "execution_count": 283,
   "metadata": {},
   "outputs": [],
   "source": [
    "def crop(image, bbox):\n",
    "    x1, y1, w, h = bbox\n",
    "    return image[y1:y1+h, x1:x1+w]"
   ]
  },
  {
   "cell_type": "code",
   "execution_count": 284,
   "metadata": {},
   "outputs": [],
   "source": [
    "pattern_blur = cv2.GaussianBlur(pattern, (5, 5), 0)\n",
    "_, pattern_binary = cv2.threshold(pattern_blur, 1, 255, cv2.THRESH_BINARY)\n",
    "pattern_binary = cv2.morphologyEx(pattern_binary, cv2.MORPH_ERODE, np.ones((5, 5), np.uint8))\n",
    "pattern_rgb = cv2.cvtColor(pattern_binary, cv2.COLOR_GRAY2RGB)\n",
    "contours, _ = cv2.findContours(pattern_binary, cv2.RETR_EXTERNAL, cv2.CHAIN_APPROX_SIMPLE)\n",
    "bbox = [cv2.boundingRect(c) for c in contours]\n",
    "bbox = [b for b in bbox if area(b) > 1000]\n",
    "bbox = [adjust(b, 30) for b in bbox]\n",
    "pattern_rgb = cv2.cvtColor(pattern_binary, cv2.COLOR_GRAY2RGB)\n",
    "# for b in bbox:\n",
    "#     x1, y1, w, h = b\n",
    "#     cv2.rectangle(pattern_rgb, (x1, y1), (x1 + w, y1 + h), (0, 255, 0), 2)\n",
    "# plt.imshow(pattern_rgb)\n",
    "# plt.show()"
   ]
  },
  {
   "cell_type": "code",
   "execution_count": 285,
   "metadata": {},
   "outputs": [],
   "source": [
    "def normalize(image):\n",
    "    image = img_as_ubyte(image)\n",
    "    image_bg = cv2.medianBlur(image, 51)\n",
    "    image_bg_blur = cv2.GaussianBlur(image_bg, (0, 0), sigmaX=101, sigmaY=101)\n",
    "    image_clean = cv2.subtract(image, image_bg_blur)\n",
    "    p1 = np.percentile(image_clean[image_clean > 0], 1)\n",
    "    p99 = np.percentile(image_clean[image_clean > 0], 99)\n",
    "    image = (image_clean - p1) / (p99 - p1)\n",
    "    image = image.clip(0, 1)\n",
    "    image = image * 255\n",
    "    return image.astype(np.uint8)"
   ]
  },
  {
   "cell_type": "code",
   "execution_count": 290,
   "metadata": {},
   "outputs": [],
   "source": [
    "def normalize_simple(image):\n",
    "    image = img_as_ubyte(image)\n",
    "    min = np.min(image)\n",
    "    max = np.max(image)\n",
    "    image = (image - min) / (max - min)\n",
    "    image = image * 255\n",
    "    return image.astype(np.uint8)"
   ]
  },
  {
   "cell_type": "code",
   "execution_count": 286,
   "metadata": {},
   "outputs": [
    {
     "name": "stderr",
     "output_type": "stream",
     "text": [
      "/Users/jack/miniconda3/lib/python3.12/site-packages/skimage/io/collection.py:316: FutureWarning: The plugin infrastructure in `skimage.io` is deprecated since version 0.25 and will be removed in 0.27 (or later). To avoid this warning, please do not pass additional keyword arguments for plugins (`**plugin_args`). Instead, use `imageio` or other I/O packages directly. See also `skimage.io.imread`.\n",
      "  self.data[idx] = self.load_func(fname, **kwargs)\n"
     ]
    }
   ],
   "source": [
    "# cyto_norm = normalize(cyto[0])\n",
    "cyto_img = img_as_ubyte(cyto[0])\n",
    "bg = cv2.medianBlur(cyto_img, 51)\n",
    "bg_blur = cv2.GaussianBlur(bg, (0, 0), sigmaX=101, sigmaY=101)\n",
    "cyto_clean = cv2.subtract(cyto_img, bg_blur)\n",
    "fig, ax = plt.subplots(1, 2)\n",
    "ax[0].imshow(cyto_img)\n",
    "ax[1].imshow(cyto_clean)\n",
    "plt.show()"
   ]
  },
  {
   "cell_type": "code",
   "execution_count": 291,
   "metadata": {},
   "outputs": [],
   "source": [
    "overlay_rgb = np.zeros((*pattern_rgb.shape[:2], 3), dtype=np.uint8)\n",
    "overlay_rgb[..., 0] = normalize(nuclei[0])\n",
    "overlay_rgb[..., 1] = normalize_simple(cyto[0])\n",
    "plt.imshow(crop(overlay_rgb, bbox[0]))\n",
    "plt.show()"
   ]
  },
  {
   "cell_type": "markdown",
   "metadata": {},
   "source": [
    "Testing to choose the best parameters"
   ]
  },
  {
   "cell_type": "code",
   "execution_count": 288,
   "metadata": {},
   "outputs": [
    {
     "ename": "NameError",
     "evalue": "name 'files' is not defined",
     "output_type": "error",
     "traceback": [
      "\u001b[31m---------------------------------------------------------------------------\u001b[39m",
      "\u001b[31mNameError\u001b[39m                                 Traceback (most recent call last)",
      "\u001b[36mCell\u001b[39m\u001b[36m \u001b[39m\u001b[32mIn[288]\u001b[39m\u001b[32m, line 4\u001b[39m\n\u001b[32m      1\u001b[39m \u001b[38;5;66;03m# Change the frame number, the diameter, and the separation value to check that the nuclei are recognized.\u001b[39;00m\n\u001b[32m      2\u001b[39m \u001b[38;5;66;03m# Set topn to the number of cells to detect.\u001b[39;00m\n\u001b[32m----> \u001b[39m\u001b[32m4\u001b[39m frames = imread(os.path.abspath(\u001b[43mfiles\u001b[49m[\u001b[32m1\u001b[39m]))\n\u001b[32m      5\u001b[39m \u001b[38;5;28mprint\u001b[39m(\u001b[38;5;28mlen\u001b[39m(frames))\n\u001b[32m      6\u001b[39m frame_no = \u001b[32m20\u001b[39m\n",
      "\u001b[31mNameError\u001b[39m: name 'files' is not defined"
     ]
    }
   ],
   "source": [
    "# Change the frame number, the diameter, and the separation value to check that the nuclei are recognized.\n",
    "# Set topn to the number of cells to detect.\n",
    "\n",
    "frames = imread(os.path.abspath(files[1]))\n",
    "print(len(frames))\n",
    "frame_no = 20\n",
    "# f = tp.locate(frames[frame_no], diameter=25, minmass=0, topn=3, separation=7)\n",
    "f = tp.locate(frames[frame_no], diameter=25, topn=3, separation=7)\n",
    "print(f)\n",
    "# tp.annotate(f, frames[frame_no])\n",
    "# # plt.hist(f['mass'])\n",
    "# plt.show()\n"
   ]
  },
  {
   "cell_type": "markdown",
   "metadata": {},
   "source": [
    "Running trackpy on all files"
   ]
  },
  {
   "cell_type": "code",
   "execution_count": 47,
   "metadata": {},
   "outputs": [],
   "source": [
    "# Parameters\n",
    "\n",
    "## Tracking parameters\n",
    "diameter = 25  #31 is better for 1 cell\n",
    "separation = 7\n",
    "topn = 3 # Number of cell\n",
    "verbose = True\n",
    "\n",
    "## Saving parameters\n",
    "start_position = 1\n",
    "stop_position = 1\n",
    "overwrite = False\n",
    "old_suffix = '-Hoechst.tif'\n",
    "new_suffix = '-tracking.csv'"
   ]
  },
  {
   "cell_type": "code",
   "execution_count": 48,
   "metadata": {},
   "outputs": [
    {
     "name": "stderr",
     "output_type": "stream",
     "text": [
      "100%|██████████| 2/2 [00:01<00:00,  1.26it/s]"
     ]
    },
    {
     "name": "stdout",
     "output_type": "stream",
     "text": [
      "Frame 130: 3 trajectories present.\n",
      "Tracking of nuclei completed.\n"
     ]
    },
    {
     "name": "stderr",
     "output_type": "stream",
     "text": [
      "\n"
     ]
    }
   ],
   "source": [
    "files = glob.glob(os.path.join(data_path, \"*-Hoechst.tif\"))\n",
    "\n",
    "for filename in tqdm(files):\n",
    "    print(filename)\n",
    "    print(os.path.basename(filename)[:3])\n",
    "    position = int(os.path.basename(filename)[:3])\n",
    "    if position>=start_position and position<=stop_position:\n",
    "\n",
    "        frames = imread(os.path.abspath(filename))\n",
    "\n",
    "        t = track(frames, diameter=diameter, separation=separation, \n",
    "                           topn=topn, verbose=verbose)\n",
    "\n",
    "        savename = os.path.basename(filename).removesuffix(old_suffix) + new_suffix\n",
    "        savename = os.path.join(save_path, savename)\n",
    "        if os.path.exists(savename):\n",
    "            if overwrite:\n",
    "                print(f\"Warning: the file {savename} already exists and will be deleted.\")\n",
    "                os.remove(savename)\n",
    "                t.to_csv(savename)\n",
    "            else:\n",
    "                print(f\"Warning: the file {savename} already exists, the data will not be saved.\")\n",
    "        else:\n",
    "            t.to_csv(savename)"
   ]
  },
  {
   "cell_type": "code",
   "execution_count": null,
   "metadata": {},
   "outputs": [],
   "source": []
  }
 ],
 "metadata": {
  "kernelspec": {
   "display_name": "base",
   "language": "python",
   "name": "python3"
  },
  "language_info": {
   "codemirror_mode": {
    "name": "ipython",
    "version": 3
   },
   "file_extension": ".py",
   "mimetype": "text/x-python",
   "name": "python",
   "nbconvert_exporter": "python",
   "pygments_lexer": "ipython3",
   "version": "3.12.9"
  },
  "orig_nbformat": 4
 },
 "nbformat": 4,
 "nbformat_minor": 2
}
