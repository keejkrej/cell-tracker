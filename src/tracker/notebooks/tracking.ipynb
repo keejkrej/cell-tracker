{
 "cells": [
  {
   "cell_type": "markdown",
   "metadata": {},
   "source": [
    "# Tracking the nuclei"
   ]
  },
  {
   "cell_type": "code",
   "execution_count": 51,
   "metadata": {},
   "outputs": [],
   "source": [
    "import os\n",
    "import numpy as np\n",
    "import pandas as pd\n",
    "import glob\n",
    "from pathlib import Path\n",
    "from skimage.io import imread\n",
    "from tracker.core import track\n",
    "from tqdm import tqdm\n",
    "import trackpy as tp\n",
    "import matplotlib.pyplot as plt"
   ]
  },
  {
   "cell_type": "markdown",
   "metadata": {},
   "source": [
    "Loading file paths"
   ]
  },
  {
   "cell_type": "code",
   "execution_count": 55,
   "metadata": {},
   "outputs": [],
   "source": [
    "root = \"/home/jack/workspace/own/cell-tracker\"\n",
    "\n",
    "data_path = os.path.join(root, \"data/\")\n",
    "save_path = os.path.join(root, \"output/\")\n",
    "\n",
    "data_path = Path(data_path)\n",
    "\n",
    "if not os.path.exists(save_path):\n",
    "    os.makedirs(save_path)\n",
    "\n",
    "files = sorted(data_path.glob(\"*-Hoechst.tif\"))"
   ]
  },
  {
   "cell_type": "code",
   "execution_count": 56,
   "metadata": {},
   "outputs": [
    {
     "name": "stdout",
     "output_type": "stream",
     "text": [
      "[PosixPath('/home/jack/workspace/own/cell-tracker/data/001-1-Hoechst.tif'), PosixPath('/home/jack/workspace/own/cell-tracker/data/001-2-Hoechst.tif')]\n"
     ]
    }
   ],
   "source": [
    "print(files)"
   ]
  },
  {
   "cell_type": "markdown",
   "metadata": {},
   "source": [
    "Testing to choose the best parameters"
   ]
  },
  {
   "cell_type": "code",
   "execution_count": null,
   "metadata": {},
   "outputs": [
    {
     "name": "stdout",
     "output_type": "stream",
     "text": [
      "131\n",
      "            y          x           mass  ...       signal   raw_mass  ep\n",
      "38  50.628920  46.571182  134107.150603  ...   976.941693  1056240.0 NaN\n",
      "21  29.766445  43.497690  159922.516744  ...   994.839008  1132508.0 NaN\n",
      "26  39.119467  84.934115  323617.367925  ...  1832.657045  1462765.0 NaN\n",
      "\n",
      "[3 rows x 8 columns]\n"
     ]
    }
   ],
   "source": [
    "# Change the frame number, the diameter, and the separation value to check that the nuclei are recognized.\n",
    "# Set topn to the number of cells to detect.\n",
    "\n",
    "frames = imread(os.path.abspath(files[1]))\n",
    "print(len(frames))\n",
    "frame_no = 20\n",
    "# f = tp.locate(frames[frame_no], diameter=25, minmass=0, topn=3, separation=7)\n",
    "f = tp.locate(frames[frame_no], diameter=25, topn=3, separation=7)\n",
    "print(f)\n",
    "# tp.annotate(f, frames[frame_no])\n",
    "# # plt.hist(f['mass'])\n",
    "# plt.show()\n"
   ]
  },
  {
   "cell_type": "markdown",
   "metadata": {},
   "source": [
    "Running trackpy on all files"
   ]
  },
  {
   "cell_type": "code",
   "execution_count": 47,
   "metadata": {},
   "outputs": [],
   "source": [
    "# Parameters\n",
    "\n",
    "## Tracking parameters\n",
    "diameter = 25  #31 is better for 1 cell\n",
    "separation = 7\n",
    "topn = 3 # Number of cell\n",
    "verbose = True\n",
    "\n",
    "## Saving parameters\n",
    "start_position = 1\n",
    "stop_position = 1\n",
    "overwrite = False\n",
    "old_suffix = '-Hoechst.tif'\n",
    "new_suffix = '-tracking.csv'"
   ]
  },
  {
   "cell_type": "code",
   "execution_count": 48,
   "metadata": {},
   "outputs": [
    {
     "name": "stderr",
     "output_type": "stream",
     "text": [
      "100%|██████████| 2/2 [00:01<00:00,  1.26it/s]"
     ]
    },
    {
     "name": "stdout",
     "output_type": "stream",
     "text": [
      "Frame 130: 3 trajectories present.\n",
      "Tracking of nuclei completed.\n"
     ]
    },
    {
     "name": "stderr",
     "output_type": "stream",
     "text": [
      "\n"
     ]
    }
   ],
   "source": [
    "files = glob.glob(os.path.join(data_path, \"*-Hoechst.tif\"))\n",
    "\n",
    "for filename in tqdm(files):\n",
    "    print(filename)\n",
    "    print(os.path.basename(filename)[:3])\n",
    "    position = int(os.path.basename(filename)[:3])\n",
    "    if position>=start_position and position<=stop_position:\n",
    "\n",
    "        frames = imread(os.path.abspath(filename))\n",
    "\n",
    "        t = track(frames, diameter=diameter, separation=separation, \n",
    "                           topn=topn, verbose=verbose)\n",
    "\n",
    "        savename = os.path.basename(filename).removesuffix(old_suffix) + new_suffix\n",
    "        savename = os.path.join(save_path, savename)\n",
    "        if os.path.exists(savename):\n",
    "            if overwrite:\n",
    "                print(f\"Warning: the file {savename} already exists and will be deleted.\")\n",
    "                os.remove(savename)\n",
    "                t.to_csv(savename)\n",
    "            else:\n",
    "                print(f\"Warning: the file {savename} already exists, the data will not be saved.\")\n",
    "        else:\n",
    "            t.to_csv(savename)"
   ]
  },
  {
   "cell_type": "code",
   "execution_count": null,
   "metadata": {},
   "outputs": [],
   "source": []
  }
 ],
 "metadata": {
  "kernelspec": {
   "display_name": "phy",
   "language": "python",
   "name": "python3"
  },
  "language_info": {
   "codemirror_mode": {
    "name": "ipython",
    "version": 3
   },
   "file_extension": ".py",
   "mimetype": "text/x-python",
   "name": "python",
   "nbconvert_exporter": "python",
   "pygments_lexer": "ipython3",
   "version": "3.12.9"
  },
  "orig_nbformat": 4
 },
 "nbformat": 4,
 "nbformat_minor": 2
}
